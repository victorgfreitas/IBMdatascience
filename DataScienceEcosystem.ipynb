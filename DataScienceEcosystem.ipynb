{
 "cells": [
  {
   "cell_type": "markdown",
   "id": "c4defe8c-d9a0-421e-a9ba-da93a7a64802",
   "metadata": {},
   "source": [
    "# Data Science Tools and Ecosystem"
   ]
  },
  {
   "cell_type": "markdown",
   "id": "d5864343-f41b-4822-b6a7-8eadb17d5e87",
   "metadata": {},
   "source": [
    "# In this notebook, Data Science Tools and Ecosystem are summarized."
   ]
  },
  {
   "cell_type": "markdown",
   "id": "a49c0151-90e1-4a76-8679-07c4e0298a70",
   "metadata": {},
   "source": [
    "# Some of the popular languages that Data Scientists use are:\n",
    "# 1.Python\n",
    "# 2.SQL\n",
    "# 3.R"
   ]
  },
  {
   "cell_type": "markdown",
   "id": "09e81957-4226-426b-b412-98319f3dc58f",
   "metadata": {},
   "source": [
    "# Some of the commonly used libraries used by Data Scientists include:\n",
    "# 1.Pandas\n",
    "# 2.GGplot\n",
    "# 3.Seaborn"
   ]
  },
  {
   "cell_type": "markdown",
   "id": "9b46110a-18a6-4435-b7b6-1e8670621972",
   "metadata": {},
   "source": [
    "| Data Science Tools |\n",
    "| :---: |\n",
    "| Jupyter Notebook |\n",
    "| RStudio |\n",
    "| VS Code with Python and relevant extensions |"
   ]
  },
  {
   "cell_type": "markdown",
   "id": "30a7d2d5-a3fc-44b3-b115-0c777afe1f2b",
   "metadata": {},
   "source": [
    "# Below are a few examples of evaluating arithmetic expressions in Python:"
   ]
  },
  {
   "cell_type": "code",
   "execution_count": 13,
   "id": "250384fd-85a3-4d4b-b095-6defe9e52eb3",
   "metadata": {},
   "outputs": [
    {
     "data": {
      "text/plain": [
       "17"
      ]
     },
     "execution_count": 13,
     "metadata": {},
     "output_type": "execute_result"
    }
   ],
   "source": [
    "# This a simple arithmetic expression to mutiply then add integers\n",
    "(3*4)+5"
   ]
  },
  {
   "cell_type": "code",
   "execution_count": 14,
   "id": "0b8fea1b-7f9d-4773-a219-bfb1f1217327",
   "metadata": {},
   "outputs": [
    {
     "data": {
      "text/plain": [
       "33.333333333333336"
      ]
     },
     "execution_count": 14,
     "metadata": {},
     "output_type": "execute_result"
    }
   ],
   "source": [
    "# This will convert 200 minutes to hours by diving by 60\n",
    "200/6"
   ]
  },
  {
   "cell_type": "markdown",
   "id": "c8424446-e29d-408a-97a1-066df4adeff5",
   "metadata": {},
   "source": [
    "# **Objectives**\n",
    "## - Python\n",
    "## - SQL\n",
    "## - R"
   ]
  },
  {
   "cell_type": "markdown",
   "id": "ae0f813c-9a4f-46bb-b06a-ad95d9b68e4b",
   "metadata": {},
   "source": [
    "## Author\n",
    "# Victor Gonzalez Freitas"
   ]
  }
 ],
 "metadata": {
  "kernelspec": {
   "display_name": "Python 3 (ipykernel)",
   "language": "python",
   "name": "python3"
  },
  "language_info": {
   "codemirror_mode": {
    "name": "ipython",
    "version": 3
   },
   "file_extension": ".py",
   "mimetype": "text/x-python",
   "name": "python",
   "nbconvert_exporter": "python",
   "pygments_lexer": "ipython3",
   "version": "3.11.7"
  }
 },
 "nbformat": 4,
 "nbformat_minor": 5
}
